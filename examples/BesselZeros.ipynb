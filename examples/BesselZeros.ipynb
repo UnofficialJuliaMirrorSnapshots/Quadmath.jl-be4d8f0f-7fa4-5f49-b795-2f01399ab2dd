{
 "cells": [
  {
   "cell_type": "markdown",
   "metadata": {},
   "source": [
    "## Zeros of Bessel functions\n",
    "Let $j_{\\nu,m}$ denote the $m$th zero of the Bessel function $J_\\nu(z)$.\n",
    "Asymptotically it holds\n",
    "\n",
    "$$\\mathop{j_{\\nu,m}}\\nolimits\\nolimits\\sim a-\\frac{\\mu-1}{8a}\n",
    "-\\frac{4(\\mu-1)(7\\mu-31)}{3(8a)^{3}}-\\frac{32(\\mu-1)(83\\mu^{2}-982\\mu+3779\n",
    ")}{15(8a)^{5}}-\\frac{64(\\mu-1)(6949\\mu^{3}-1\\;53855\\mu^{2}+1585743\\mu-6277\n",
    "237)}{105(8a)^{7}}-\\cdots$$\n",
    "\n",
    "for $m\\to\\infty$ where $a=(m+\\frac{1}{2}\\nu-\\frac{1}{4})\\pi$ and $\\mu=4\\nu^2$, cf.\n",
    "http://dlmf.nist.gov/10.21#vi. \n",
    "\n",
    "The following function computes this approximation for $j_{\\nu,m}$:"
   ]
  },
  {
   "cell_type": "code",
   "execution_count": 1,
   "metadata": {
    "collapsed": false
   },
   "outputs": [
    {
     "data": {
      "text/plain": [
       "besselj_zero_approx1 (generic function with 1 method)"
      ]
     },
     "execution_count": 1,
     "metadata": {},
     "output_type": "execute_result"
    }
   ],
   "source": [
    "function besselj_zero_approx1(ν::Integer, m::Integer)\n",
    "    μ = 4.0*ν^2\n",
    "    a = (m+ν/2-1/4)*π\n",
    "    a8 = 1/(8a)\n",
    "    a82 = a8^2\n",
    "    j = (a -(μ-1)*a8*(1 + a82*(4*(7μ-31)/3 +a82*( 32*(83*μ^2-982*μ+3779)/15 +\n",
    "         a82*(64*(6949*μ^3-153855*μ^2+1585743*μ-6277237)/105))))\n",
    "        )\n",
    "end"
   ]
  },
  {
   "cell_type": "markdown",
   "metadata": {},
   "source": [
    "Similarly, let $j_{\\nu,m}'$ denote the $m$th zero of the derivative $J_\\nu'(z)$.\n",
    "Asymptotically it holds\n",
    "\n",
    "$$\\mathop{j_{\\nu,m}}\\nolimits'\\sim b-\\frac{\\mu+%\n",
    "3}{8b}-\\frac{4(7\\mu^{2}+82\\mu-9)}{3(8b)^{3}}-\\frac{32(83\\mu^{3}+2075\\mu^{2}-30%\n",
    "39\\mu+3537)}{15(8b)^{5}}-\\frac{64(6949\\mu^{4}+2\\;96492\\mu^{3}-12\\;48002\\mu^{2}%\n",
    "+74\\;14380\\mu-58\\;53627)}{105(8b)^{7}}-\\cdots,$$\n",
    "\n",
    "for $m\\to\\infty$ where $b=(m+\\frac{1}{2}\\nu-\\frac{3}{4})\\pi$ and $\\mu=4\\nu^2$, cf.\n",
    "http://dlmf.nist.gov/10.21#vi.  \n",
    "\n",
    "The following function computes this approximation for $j_{\\nu,m}'$:"
   ]
  },
  {
   "cell_type": "code",
   "execution_count": 2,
   "metadata": {
    "collapsed": false
   },
   "outputs": [
    {
     "data": {
      "text/plain": [
       "besseljprime_zero_approx1 (generic function with 1 method)"
      ]
     },
     "execution_count": 2,
     "metadata": {},
     "output_type": "execute_result"
    }
   ],
   "source": [
    "function besseljprime_zero_approx1(ν::Integer, m::Integer)\n",
    "    #if (ν==0 && m==1)\n",
    "    #    return 0.0\n",
    "    #end\n",
    "    if ν==0\n",
    "        m += 1\n",
    "    end\n",
    "    μ = 4*ν^2\n",
    "    b = (m+ν/2-3/4)*π\n",
    "    b8 = 1/(8*b)\n",
    "    b82 = b8^2\n",
    "    j = (b - b8*(μ+3 + b82*(4*(7*μ^2+82*μ-9)/3 +b82*(32*(83*μ^3+2075*μ^2-3039*μ+3537)/15 + \n",
    "             b82*(64*(6949*μ^4+296492*μ^3-1248002*μ^2+7414380*μ-5853627)/105)))))\n",
    "end"
   ]
  },
  {
   "cell_type": "markdown",
   "metadata": {},
   "source": [
    "The above approximations for $j_{\\nu,m}$ and $j_{\\nu,m}'$ are only useful for\n",
    "small $\\nu$. For larger $\\nu$ we obtain approximations with a method described in\n",
    "\n",
    "N.M Temme, An algorithm with ALGOL 60 program for the computation of the zeros of ordinary bessel functions and those of their derivatives, J.Comp.Phys. 32, 270-279 (1979)"
   ]
  },
  {
   "cell_type": "markdown",
   "metadata": {},
   "source": [
    "To calculate an approximation of $j_{\\nu,m}$ with this method we need an approximation for the $m$th negative zero $a_m$ of the Airy function $\\mathrm{Ai}(z)$, cf.\n",
    "http://dlmf.nist.gov/9.9#E6:\n",
    "$$\\mathop{a_{k}}\\nolimits=-T\\left(\\tfrac{3}{8}\\pi(4k-1)\\right)$$\n",
    "$$T(t)\\sim t^{2/3}\\left(1+\\frac{5}{48}t^{-2}-\\frac{5}{36}t^{-4}+\\frac{77125}{829%\n",
    "44}t^{-6}-\\frac{1080\\;56875}{69\\;67296}t^{-8}+\\frac{16\\;23755\\;96875}{3344\\;30%\n",
    "208}t^{-10}-\\cdots\\right),$$\n",
    "\n",
    "The following function computes this approximation for $a_m$:"
   ]
  },
  {
   "cell_type": "code",
   "execution_count": 3,
   "metadata": {
    "collapsed": false
   },
   "outputs": [
    {
     "data": {
      "text/plain": [
       "airy_zero_approx (generic function with 1 method)"
      ]
     },
     "execution_count": 3,
     "metadata": {},
     "output_type": "execute_result"
    }
   ],
   "source": [
    "function airy_zero_approx(m::Integer)\n",
    "    if m<=10\n",
    "        z =[-2.338107410459767,\n",
    "            -4.087949444130970,\n",
    "            -5.520559828095552,\n",
    "            -6.786708090071759,\n",
    "            -7.944133587120853,\n",
    "            -9.022650853340980,\n",
    "           -10.04017434155809,\n",
    "           -11.00852430373326,\n",
    "           -11.93601556323626,\n",
    "           -12.82877675286576][m]\n",
    "    else    \n",
    "        t = 3/8*π*(4*m-1)\n",
    "        t2 = t^(-2)\n",
    "        z = -t^(2/3)*(1+t2*(5/48+t2*(-5/36+t2*(77125/82944+t2*(\n",
    "            -108056875/6967296+ t2*162375596875/334430208)))))\n",
    "    end   \n",
    "    z\n",
    "end"
   ]
  },
  {
   "cell_type": "markdown",
   "metadata": {},
   "source": [
    "Similarly, to calculate an approximation of $j_{\\nu,m}'$  we need an approximation for the $m$th negative zero $a_m'$ of the derivative $\\mathrm{Ai}'(z)$, cf.\n",
    "http://dlmf.nist.gov/9.9#E8:\n",
    "$$\\mathop{a'_{k}}\\nolimits=-U\\left(\\tfrac{3}{8}\\pi(4k-3)\\right),$$\n",
    "$$U(t)\\sim t^{2/3}\\left(1-\\frac{7}{48}t^{-2}+\\frac{35}{288}t^{-4}-\\frac{1\\;81223%\n",
    "}{2\\;07360}t^{-6}+\\frac{186\\;83371}{12\\;44160}t^{-8}-\\frac{9\\;11458\\;84361}{19%\n",
    "11\\;02976}t^{-10}+\\cdots\\right),$$\n",
    "\n",
    "The following function computes this approximation for $a_m'$:"
   ]
  },
  {
   "cell_type": "code",
   "execution_count": 4,
   "metadata": {
    "collapsed": false
   },
   "outputs": [
    {
     "data": {
      "text/plain": [
       "airyprime_zero_approx (generic function with 1 method)"
      ]
     },
     "execution_count": 4,
     "metadata": {},
     "output_type": "execute_result"
    }
   ],
   "source": [
    "function airyprime_zero_approx(m::Integer)\n",
    "    if m<=10\n",
    "        z = [-1.0187929716474710890,\n",
    "             -3.2481975821798365379,\n",
    "             -4.8200992111787356394,\n",
    "             -6.1633073556394865476,\n",
    "             -7.3721772550477701771,\n",
    "             -8.4884867340197221329,\n",
    "             -9.5354490524335474707,\n",
    "            -10.527660396957407282,\n",
    "            -11.475056633480245295,\n",
    "            -12.384788371845747325][m]\n",
    "    else    \n",
    "        t = 3/8*π*(4*m-3)\n",
    "        t2 = t^(-2)\n",
    "        z = -t^(2/3)*(1+t2*(-7/48+t2*(35/288+t2*(-181223/207360+t2*(\n",
    "            18683371/1244160 - t2*9114588436/191102976)))))\n",
    "    end   \n",
    "    z\n",
    "end"
   ]
  },
  {
   "cell_type": "markdown",
   "metadata": {},
   "source": [
    "The following function implements the method form the above reference for the calculation of an approximation of $j_{\\nu,m}$ or $j_{\\nu,m}'$ valid for small $\\nu$:"
   ]
  },
  {
   "cell_type": "code",
   "execution_count": 5,
   "metadata": {
    "collapsed": false
   },
   "outputs": [
    {
     "data": {
      "text/plain": [
       "besselj_zero_approx2 (generic function with 1 method)"
      ]
     },
     "execution_count": 5,
     "metadata": {},
     "output_type": "execute_result"
    }
   ],
   "source": [
    "function besselj_zero_approx2(ν::Integer, m::Integer; prime::Bool=false)\n",
    "    if prime \n",
    "        ζ = ν^(-2/3)*airyprime_zero_approx(m)\n",
    "    else\n",
    "         ζ = ν^(-2/3)*airy_zero_approx(m)\n",
    "    end\n",
    "    y = 2/3*(-ζ)^(3/2)\n",
    "    if y>100000\n",
    "        x = π/2\n",
    "    elseif y<1\n",
    "        p = (3*y)^(1/3)\n",
    "        p2 = p^2\n",
    "        x = p*(1+p2*(-2/15+p2*(3/175+p2*(-2/1575))))\n",
    "    else\n",
    "        p = 1/(y+π/2)\n",
    "        p2 = p^2\n",
    "        x = π/2 - p*(1+p2*(2/3+p2*(13/15+p2*(146/105+p2*(781/315+p2*16328/3465)))))        \n",
    "    end\n",
    "    x2 = (y+x)^2\n",
    "    r = (x-atan(x+y))/x2\n",
    "    x = x - (1+x2)*r*(1+r/(x+y))\n",
    "\n",
    "    z = 1/cos(x)\n",
    "    h = sqrt(ζ*(1-z^2))\n",
    "    if prime\n",
    "        g1 = z/ζ*h*(7/(48*ζ) + h*(7/(z^2-1)+9\n",
    "        )/24)\n",
    "        j = ν*z + g1/ν\n",
    "    else\n",
    "        f1 = -z/ζ*h*(5/(48*ζ) + h*(5/(z^2-1)+3)/24)\n",
    "        j = ν*z + f1/ν\n",
    "    end\n",
    "    j\n",
    "end"
   ]
  },
  {
   "cell_type": "markdown",
   "metadata": {},
   "source": [
    "The following function calculates an approximations for $j_{\\nu,m}$  valid for all $\\nu$ and $m$: "
   ]
  },
  {
   "cell_type": "code",
   "execution_count": 6,
   "metadata": {
    "collapsed": false
   },
   "outputs": [
    {
     "data": {
      "text/plain": [
       "besselj_zero_approx (generic function with 1 method)"
      ]
     },
     "execution_count": 6,
     "metadata": {},
     "output_type": "execute_result"
    }
   ],
   "source": [
    "function besselj_zero_approx(ν::Integer, m::Integer)\n",
    "  if m>=ν\n",
    "     j = besselj_zero_approx1(ν, m)\n",
    "  else\n",
    "     j = besselj_zero_approx2(ν, m)\n",
    "  end      \n",
    "  j\n",
    "end"
   ]
  },
  {
   "cell_type": "markdown",
   "metadata": {},
   "source": [
    "Similarly, the following function calculates an approximations for $j_{\\nu,m}'$  valid for all $\\nu$ and $m$: "
   ]
  },
  {
   "cell_type": "code",
   "execution_count": 7,
   "metadata": {
    "collapsed": false
   },
   "outputs": [
    {
     "data": {
      "text/plain": [
       "besseljprime_zero_approx (generic function with 1 method)"
      ]
     },
     "execution_count": 7,
     "metadata": {},
     "output_type": "execute_result"
    }
   ],
   "source": [
    "function besseljprime_zero_approx(ν::Integer, m::Integer)\n",
    "  if m>=ν\n",
    "        j = besseljprime_zero_approx1(ν, m)\n",
    "  else\n",
    "        j = besselj_zero_approx2(ν, m, prime=true)\n",
    "  end      \n",
    "  j\n",
    "end"
   ]
  },
  {
   "cell_type": "markdown",
   "metadata": {},
   "source": [
    "Starting from an approximation for a zero of $J_\\nu(z)$ the following function\n",
    "improves this approximation iteratively using Newton's method.\n",
    "For the derivative of $J_\\nu(z)$ needed by Newton's method we use \n",
    "$$\\mathop{J_{\\nu}'}\\!\\left(z\\right)=\\mathop{J_{\n",
    "\\nu-1}}\\nolimits\\!\\left(z\\right)-\\frac{\\nu}{z}\\mathop{J_{\\nu}}\n",
    "\\nolimits\\!\\left(z\\right).$$"
   ]
  },
  {
   "cell_type": "code",
   "execution_count": 8,
   "metadata": {
    "collapsed": false
   },
   "outputs": [
    {
     "data": {
      "text/plain": [
       "besselj_zero_iter (generic function with 1 method)"
      ]
     },
     "execution_count": 8,
     "metadata": {},
     "output_type": "execute_result"
    }
   ],
   "source": [
    "function besselj_zero_iter(ν::Integer, z::AbstractFloat)\n",
    "    T = typeof(z)\n",
    "    ɛ = eps(T)\n",
    "    for i = 1:200\n",
    "        J = besselj(ν, z)\n",
    "        if abs(J) < 1000ɛ \n",
    "            break\n",
    "        end        \n",
    "        Jprime = besselj(ν-1, z) - ν*J/z\n",
    "        z -= J/Jprime   \n",
    "        if i==200\n",
    "            println(\"200 iterations, res=\",abs(J))\n",
    "        end\n",
    "    end\n",
    "    return z\n",
    "end"
   ]
  },
  {
   "cell_type": "markdown",
   "metadata": {},
   "source": [
    "Similarly, starting from an approximation for a zero of $J_\\nu'(z)$ the following function\n",
    "improves this approximation iteratively using Newton's method.\n",
    "For the second derivative $J_\\nu''(z)$ needed by Newton's method we use \n",
    "$$J_{\\nu}''(z)=-\\frac{1}{z}J_{\\nu}'(z)+\\left(\\frac{\\nu^2}{z^2}-1\\right)J_{\\nu}(z),$$\n",
    "where $J_{\\nu}'(z)$ is given by\n",
    "$$\\mathop{J_{\\nu}'}\\!\\left(z\\right)=\\mathop{J_{\n",
    "\\nu-1}}\\nolimits\\!\\left(z\\right)-\\frac{\\nu}{z}\\mathop{J_{\\nu}}\n",
    "\\nolimits\\!\\left(z\\right).$$"
   ]
  },
  {
   "cell_type": "code",
   "execution_count": 9,
   "metadata": {
    "collapsed": false
   },
   "outputs": [
    {
     "data": {
      "text/plain": [
       "besseljprime_zero_iter (generic function with 1 method)"
      ]
     },
     "execution_count": 9,
     "metadata": {},
     "output_type": "execute_result"
    }
   ],
   "source": [
    "function besseljprime_zero_iter(ν::Integer, z::AbstractFloat)    \n",
    "    T = typeof(z)\n",
    "    ɛ = eps(T)\n",
    "    for i = 1:200\n",
    "        J = besselj(ν, z)\n",
    "        J1 = besselj(ν-1, z) - ν*J/z\n",
    "        if abs(J1) < 1000ɛ \n",
    "            break\n",
    "        end       \n",
    "        J2 = -J1/z + ((ν/z)^2-1)*J\n",
    "        z -= J1/J2   \n",
    "        if i==200\n",
    "            println(\"200 iterations, res=\",abs(J1))\n",
    "        end\n",
    "    end\n",
    "    return z\n",
    "end"
   ]
  },
  {
   "cell_type": "code",
   "execution_count": 10,
   "metadata": {
    "collapsed": false
   },
   "outputs": [
    {
     "data": {
      "text/plain": [
       "besselj_zero (generic function with 2 methods)"
      ]
     },
     "execution_count": 10,
     "metadata": {},
     "output_type": "execute_result"
    }
   ],
   "source": [
    "besselj_zero(ν, m, T=Float64) = besselj_zero_iter(ν, convert(T, besselj_zero_approx(ν, m)))"
   ]
  },
  {
   "cell_type": "code",
   "execution_count": 11,
   "metadata": {
    "collapsed": false
   },
   "outputs": [
    {
     "data": {
      "text/plain": [
       "besseljprime_zero (generic function with 2 methods)"
      ]
     },
     "execution_count": 11,
     "metadata": {},
     "output_type": "execute_result"
    }
   ],
   "source": [
    "besseljprime_zero(ν::Integer, m::Integer, T=Float64) =\n",
    "    besseljprime_zero_iter(ν, convert(T, besseljprime_zero_approx(ν, m)))"
   ]
  },
  {
   "cell_type": "code",
   "execution_count": 12,
   "metadata": {
    "collapsed": false
   },
   "outputs": [
    {
     "name": "stderr",
     "output_type": "stream",
     "text": [
      "/home/hofi/.julia/v0.4/Conda/deps/usr/lib/python2.7/site-packages/matplotlib/font_manager.py:273: UserWarning: Matplotlib is building the font cache using fc-list. This may take a moment.\n",
      "  warnings.warn('Matplotlib is building the font cache using fc-list. This may take a moment.')\n"
     ]
    }
   ],
   "source": [
    "using PyPlot"
   ]
  },
  {
   "cell_type": "code",
   "execution_count": 13,
   "metadata": {
    "collapsed": false,
    "scrolled": false
   },
   "outputs": [
    {
     "data": {
      "image/png": "[encoded data removed]",
      "text/plain": [
       "PyPlot.Figure(PyObject <matplotlib.figure.Figure object at 0x7f00b8f722d0>)"
      ]
     },
     "metadata": {},
     "output_type": "display_data"
    },
    {
     "data": {
      "text/plain": [
       "PyObject <matplotlib.collections.PolyCollection object at 0x7f009e942250>"
      ]
     },
     "execution_count": 13,
     "metadata": {},
     "output_type": "execute_result"
    }
   ],
   "source": [
    "z = Float64[besselj_zero(ν, k, Float64) for ν=1:1000, k=1:1000]\n",
    "pcolor(z)"
   ]
  },
  {
   "cell_type": "code",
   "execution_count": 14,
   "metadata": {
    "collapsed": false
   },
   "outputs": [
    {
     "data": {
      "image/png": "[encoded data removed]",
      "text/plain": [
       "PyPlot.Figure(PyObject <matplotlib.figure.Figure object at 0x7f00a1a67110>)"
      ]
     },
     "metadata": {},
     "output_type": "display_data"
    },
    {
     "data": {
      "text/plain": [
       "PyObject <matplotlib.collections.PolyCollection object at 0x7f009dea2c50>"
      ]
     },
     "execution_count": 14,
     "metadata": {},
     "output_type": "execute_result"
    }
   ],
   "source": [
    "z = Float64[besseljprime_zero(ν, k, Float64) for ν=1:1000, k=1:1000]\n",
    "pcolor(z)"
   ]
  },
  {
   "cell_type": "markdown",
   "metadata": {},
   "source": [
    "## Computations using Bigfloat and Quadmath/Float128\n",
    "We calculate the first 100 zeros of the first 101 Bessel functions."
   ]
  },
  {
   "cell_type": "code",
   "execution_count": 15,
   "metadata": {
    "collapsed": false
   },
   "outputs": [],
   "source": [
    "mmax = 100;\n",
    "νmax = 100;"
   ]
  },
  {
   "cell_type": "markdown",
   "metadata": {},
   "source": [
    "First we use __BigFloat__ with precision 113 bits, exactly the precison of Float128:"
   ]
  },
  {
   "cell_type": "code",
   "execution_count": 16,
   "metadata": {
    "collapsed": false
   },
   "outputs": [
    {
     "data": {
      "text/plain": [
       "101x100 Array{BigFloat,2}:\n",
       " 2.40482555769577276862163187932645475      …  3.13374266077527844719690245101902241e+02\n",
       " 3.83170597020751231561443588630816071         3.14943472837767162458065600245612127e+02\n",
       " 5.13562230184068255630140169013776579         3.16509535868128429585533287236806371e+02\n",
       " 6.38016189592398350623661464194270357         3.18072501419144132055026568868862209e+02\n",
       " 7.58834243450380438506963000798561741         3.19632414630425705634404677271588722e+02\n",
       " 8.77148381595995401912286713340956027      …  3.21189319567600315733922205996408600e+02\n",
       " 9.93610952421768489469308912696519267         3.22743259257683369021774485609678388e+02\n",
       " 1.10863700192450838457627644359299991e+01     3.24294275722967013886561795050315039e+02\n",
       " 1.22250922640046551756128047691073987e+01     3.25842410013500062317371915749048547e+02\n",
       " 1.33543004774353310664199248834919227e+01     3.27387702238230273055544191699100512e+02\n",
       " 1.44755006865545412384516376554131522e+01  …  3.28930191594875749289975035297582472e+02\n",
       " 1.55898478844554846808762967334548928e+01     3.30469916398588300278287262341537071e+02\n",
       " 1.66982499338482464732035302300235455e+01     3.32006914109467973626842035759374306e+02\n",
       " ⋮                                          ⋱                                           \n",
       " 9.75167895996333101016425161460061828e+01     4.44229422221749812616059631632602944e+02\n",
       " 9.85468470354605686995953828198703722e+01  …  4.45626232301627687445054799205658896e+02\n",
       " 9.95766889152151344201222317013342652e+01     4.47021836269234041424673994388779056e+02\n",
       " 1.00606319082093323979427375082979537e+02     4.48416243761147976074479612068518802e+02\n",
       " 1.01635741270547768144033502976311007e+02     4.49809464288469071155513894338754954e+02\n",
       " 1.02664959110480189938863783901004458e+02     4.51201507239082162585972471041349447e+02\n",
       " 1.03693976131230358534263469929253553e+02  …  4.52592381879869919074378196031466165e+02\n",
       " 1.04722795765373136059130696461403384e+02     4.53982097358874679750749454449240402e+02\n",
       " 1.05751421352334722713237548088808242e+02     4.55370662707410966917277829666394956e+02\n",
       " 1.06779856141838456672060484022771462e+02     4.56758086842130041702062144437768114e+02\n",
       " 1.0780810329718983391974608021290721e+02      4.58144378567037825804829958178903632e+02\n",
       " 1.08836165898409774363097991990497816e+02  …  4.59529546575467469598337936021050021e+02"
      ]
     },
     "execution_count": 16,
     "metadata": {},
     "output_type": "execute_result"
    }
   ],
   "source": [
    "set_bigfloat_precision(113)\n",
    "\n",
    "dummy = besselj_zero(0, 1, BigFloat) \n",
    "j_bf_time = @elapsed j_bf = BigFloat[besselj_zero(ν, m, BigFloat) for ν=0:νmax, m=1:mmax]\n",
    "j_bf"
   ]
  },
  {
   "cell_type": "markdown",
   "metadata": {},
   "source": [
    "Next the same using __Float128__:"
   ]
  },
  {
   "cell_type": "code",
   "execution_count": 17,
   "metadata": {
    "collapsed": false,
    "scrolled": false
   },
   "outputs": [
    {
     "data": {
      "text/plain": [
       "101x100 Array{Quadmath.Float128,2}:\n",
       " 2.40482555769577276862163187932645475e+00  …  3.13374266077527844719690245101902241e+02\n",
       " 3.83170597020751231561443588630816071e+00     3.14943472837767162458065600245612127e+02\n",
       " 5.13562230184068255630140169013776502e+00     3.16509535868128429585533287236806371e+02\n",
       " 6.38016189592398350623661464194270357e+00     3.18072501419144132055026568868862209e+02\n",
       " 7.58834243450380438506963000798561741e+00     3.19632414630425705634404677271588722e+02\n",
       " 8.77148381595995401912286713340956027e+00  …  3.21189319567600315733922205996408600e+02\n",
       " 9.93610952421768489469308912696519113e+00     3.22743259257683369021774485609678388e+02\n",
       " 1.10863700192450838457627644359299991e+01     3.24294275722967013886561795050315039e+02\n",
       " 1.22250922640046551756128047691073987e+01     3.25842410013500062317371915749048547e+02\n",
       " 1.33543004774353310664199248834919227e+01     3.27387702238230273055544191699100512e+02\n",
       " 1.44755006865545412384516376554131522e+01  …  3.28930191594875749289975035297582472e+02\n",
       " 1.55898478844554846808762967334548928e+01     3.30469916398588300278287262341537071e+02\n",
       " 1.66982499338482464732035302300235455e+01     3.32006914109467973626842035759374306e+02\n",
       " ⋮                                          ⋱                                           \n",
       " 9.75167895996333101016425161460061828e+01     4.44229422221749812616059631632602944e+02\n",
       " 9.85468470354605686995953828198703722e+01  …  4.45626232301627687445054799205658896e+02\n",
       " 9.95766889152151344201222317013342652e+01     4.47021836269234041424673994388779056e+02\n",
       " 1.00606319082093323979427375082979537e+02     4.48416243761147976074479612068518802e+02\n",
       " 1.01635741270547768144033502976311007e+02     4.49809464288469071155513894338754954e+02\n",
       " 1.02664959110480189938863783901004458e+02     4.51201507239082162585972471041349447e+02\n",
       " 1.03693976131230358534263469929253553e+02  …  4.52592381879869919074378196031466165e+02\n",
       " 1.04722795765373136059130696461403384e+02     4.53982097358874679750749454449240402e+02\n",
       " 1.05751421352334722713237548088808242e+02     4.55370662707410966917277829666394956e+02\n",
       " 1.06779856141838456672060484022771474e+02     4.56758086842130041702062144437768114e+02\n",
       " 1.07808103297189833919746080212907210e+02     4.58144378567037825804829958178903632e+02\n",
       " 1.08836165898409774363097991990497816e+02  …  4.59529546575467469598337936021050021e+02"
      ]
     },
     "execution_count": 17,
     "metadata": {},
     "output_type": "execute_result"
    }
   ],
   "source": [
    "using Quadmath\n",
    "dummy = besselj_zero(0, 1, Float128) \n",
    "j_f128_time = @elapsed j_f128 = Float128[besselj_zero(ν, m, Float128) for ν=0:νmax, m=1:mmax]\n",
    "j_f128"
   ]
  },
  {
   "cell_type": "markdown",
   "metadata": {},
   "source": [
    "Compare the accuracy:"
   ]
  },
  {
   "cell_type": "code",
   "execution_count": 18,
   "metadata": {
    "collapsed": false
   },
   "outputs": [
    {
     "data": {
      "text/plain": [
       "(1.90528124820805902485121404460862516e-34,1.92592994438723585305597794258492732e-34,1.92592994438723585305597794258492732e-34)"
      ]
     },
     "execution_count": 18,
     "metadata": {},
     "output_type": "execute_result"
    }
   ],
   "source": [
    "maximum((j_f128-j_bf)./j_bf), eps(BigFloat), eps(Float128)"
   ]
  },
  {
   "cell_type": "markdown",
   "metadata": {},
   "source": [
    "Float128 is about 5 times faster than BigFloat:"
   ]
  },
  {
   "cell_type": "code",
   "execution_count": 20,
   "metadata": {
    "collapsed": false
   },
   "outputs": [
    {
     "data": {
      "text/plain": [
       "5.662441935933532"
      ]
     },
     "execution_count": 20,
     "metadata": {},
     "output_type": "execute_result"
    }
   ],
   "source": [
    "j_bf_time/j_f128_time"
   ]
  },
  {
   "cell_type": "markdown",
   "metadata": {},
   "source": [
    "Finally the same using __Float64__:"
   ]
  },
  {
   "cell_type": "code",
   "execution_count": 21,
   "metadata": {
    "collapsed": false
   },
   "outputs": [
    {
     "data": {
      "text/plain": [
       "101x100 Array{Float64,2}:\n",
       "   2.40483    5.52008    8.65373  …  303.95   307.091  310.233  313.374\n",
       "   3.83171    7.01559   10.1735      305.519  308.66   311.802  314.943\n",
       "   5.13562    8.41724   11.6198      307.085  310.226  313.368  316.51 \n",
       "   6.38016    6.38016   13.0152      308.647  311.789  314.931  318.073\n",
       "   7.58834   11.0647    14.3725      310.207  313.349  316.491  319.632\n",
       "   8.77148   12.3386    15.7002   …  311.763  314.905  318.047  321.189\n",
       "   9.93611   13.5893    17.0038      313.317  316.459  319.601  322.743\n",
       "  11.0864    14.8213    18.2876      314.867  318.01   321.152  324.294\n",
       "  12.2251    16.0378    19.5545      316.415  319.557  322.7    325.842\n",
       "  13.3543    17.2412    20.807       317.959  321.102  324.245  327.388\n",
       "  14.4755    18.4335    22.047    …  319.501  322.644  325.787  328.93 \n",
       "  15.5898    19.616     23.2759      321.04   324.183  327.327  330.47 \n",
       "  16.6982    20.7899    24.4949      322.576  325.72   328.863  332.007\n",
       "   ⋮                              ⋱                                    \n",
       "  97.5168   104.192    109.849       434.605  437.814  441.022  444.229\n",
       "  98.5468   105.244    110.917    …  435.999  439.209  442.418  445.626\n",
       "  99.5767   106.295    111.985       437.391  440.602  443.813  447.022\n",
       " 100.606    107.346    113.052       438.782  441.994  445.206  448.416\n",
       " 101.636    108.396    114.119       440.172  443.385  446.598  449.809\n",
       " 102.665    109.446    115.186       441.561  444.775  447.989  451.202\n",
       " 103.694    110.496    116.252    …  442.948  446.164  449.379  452.592\n",
       " 104.723    111.545    117.317       444.334  447.551  450.767  453.982\n",
       " 105.751    112.594    118.382       445.72   448.938  452.155  455.371\n",
       " 106.78     113.643    119.447       447.104  450.323  453.541  456.758\n",
       " 107.808    114.691    120.511       448.486  451.707  454.926  458.144\n",
       " 108.836    115.739    121.575    …  449.868  453.09   456.31   459.53 "
      ]
     },
     "execution_count": 21,
     "metadata": {},
     "output_type": "execute_result"
    }
   ],
   "source": [
    "dummy = besselj_zero(0, 1, Float64)\n",
    "j_f64_time = @elapsed j_f64 = Float64[besselj_zero(ν, m, Float64) for ν=0:νmax, m=1:mmax]\n",
    "j_f64"
   ]
  },
  {
   "cell_type": "code",
   "execution_count": 22,
   "metadata": {
    "collapsed": false
   },
   "outputs": [
    {
     "data": {
      "text/plain": [
       "(4.69854208305616341309921343163900531e-14,2.220446049250313e-16)"
      ]
     },
     "execution_count": 22,
     "metadata": {},
     "output_type": "execute_result"
    }
   ],
   "source": [
    "maximum((j_f128-j_f64)./j_f128), eps(Float64)"
   ]
  },
  {
   "cell_type": "markdown",
   "metadata": {},
   "source": [
    "Float64 is about 25 times faster than Float128:"
   ]
  },
  {
   "cell_type": "code",
   "execution_count": 23,
   "metadata": {
    "collapsed": false
   },
   "outputs": [
    {
     "data": {
      "text/plain": [
       "25.759443171852112"
      ]
     },
     "execution_count": 23,
     "metadata": {},
     "output_type": "execute_result"
    }
   ],
   "source": [
    "j_f128_time/j_f64_time"
   ]
  },
  {
   "cell_type": "markdown",
   "metadata": {},
   "source": [
    "Now we do the same as above with the zeros of the derivatives of the Bessel functions."
   ]
  },
  {
   "cell_type": "code",
   "execution_count": 24,
   "metadata": {
    "collapsed": false
   },
   "outputs": [
    {
     "data": {
      "text/plain": [
       "101x100 Array{BigFloat,2}:\n",
       " 3.83170597020751231561443588630816071      …  3.14943472837767162458065600245612127e+02\n",
       " 1.84118378134065930264362951364444326         3.13371074967125319790324515567509425e+02\n",
       " 3.05423692822714032275593209114856057         3.14937122257076610622142117224898316e+02\n",
       " 4.20118894121052849618785529745671241         3.16500056771020943428461465074002078e+02\n",
       " 5.31755312608399435036335555818892439         3.18059924095160387162513603909007742e+02\n",
       " 6.4156163757002402828398147190879245       …  3.19616768725777590734181280486962855e+02\n",
       " 7.50126614468414702693553244460797652         3.21170634105307603635428094761502654e+02\n",
       " 8.57783648971407412525693961763954329         3.22721562656889044119444005521026159e+02\n",
       " 9.64742165199721683294325462502214909         3.24269595817472280306365167656926364e+02\n",
       " 1.0711433970699945464986469770268534e+01      3.25814774069557641883732948947072118e+02\n",
       " 1.17708766749555819319629047509542123e+01  …  3.27357136971632350556302647308005821e+02\n",
       " 1.28264912280334647458536560530676052e+01     3.28896723187370821598138078719441067e+02\n",
       " 1.38788430696972762407737355174827911e+01     3.3043357051365922437788758543997233e+02 \n",
       " ⋮                                          ⋱                                           \n",
       " 9.26259354691831073606227546716295763e+01     4.42624772017511573869901957311292132e+02\n",
       " 9.36393526434251920720349703683786699e+01  …  4.44021039271280060042977441101440102e+02\n",
       " 9.4652671147156004752672643408276614e+01      4.4541609871978689763600695308146903e+02 \n",
       " 9.5665892776545166807326128994137026e+01      4.46809960039248230700084562630099442e+02\n",
       " 9.66790192759831064597272553582823483e+01     4.48202632779547669379379994391889205e+02\n",
       " 9.7692052340112298041182815608353118e+01      4.49594126366522512880390175687016014e+02\n",
       " 9.87049936157581314134989878039031962e+01  …  4.50984450104197137939811469284909175e+02\n",
       " 9.97178447037653721182095282742775485e+01     4.52373613176965036690381713030388837e+02\n",
       " 1.00730607160745760643181289154648211e+02     4.5376162465172093882554576911023634e+02 \n",
       " 1.01743282500741919446566011855386509e+02     4.55148493479944405822870348153942421e+02\n",
       " 1.02755872196812386217999242695020286e+02     4.56534228499736239623350138654853223e+02\n",
       " 1.03768377682542268707241285361134502e+02  …  4.57918838437809004503461623492698514e+02"
      ]
     },
     "execution_count": 24,
     "metadata": {},
     "output_type": "execute_result"
    }
   ],
   "source": [
    "dummy = besseljprime_zero(0, 1, BigFloat) \n",
    "j1_bf_time = @elapsed j1_bf = BigFloat[besseljprime_zero(ν, m, BigFloat) for ν=0:νmax, m=1:mmax]\n",
    "j1_bf"
   ]
  },
  {
   "cell_type": "code",
   "execution_count": 25,
   "metadata": {
    "collapsed": false
   },
   "outputs": [
    {
     "data": {
      "text/plain": [
       "101x100 Array{Quadmath.Float128,2}:\n",
       " 3.83170597020751231561443588630816071e+00  …  3.14943472837767162458065600245612127e+02\n",
       " 1.84118378134065930264362951364444326e+00     3.13371074967125319790324515567509425e+02\n",
       " 3.05423692822714032275593209114856096e+00     3.14937122257076610622142117224898316e+02\n",
       " 4.20118894121052849618785529745671241e+00     3.16500056771020943428461465074002078e+02\n",
       " 5.31755312608399435036335555818892439e+00     3.18059924095160387162513603909007742e+02\n",
       " 6.41561637570024028283981471908792373e+00  …  3.19616768725777590734181280486962855e+02\n",
       " 7.50126614468414702693553244460797652e+00     3.21170634105307603635428094761502654e+02\n",
       " 8.57783648971407412525693961763954329e+00     3.22721562656889044119444005521026159e+02\n",
       " 9.64742165199721683294325462502214909e+00     3.24269595817472280306365167656926364e+02\n",
       " 1.07114339706999454649864697702685340e+01     3.25814774069557641883732948947072118e+02\n",
       " 1.17708766749555819319629047509542123e+01  …  3.27357136971632350556302647308005821e+02\n",
       " 1.28264912280334647458536560530676068e+01     3.28896723187370821598138078719441067e+02\n",
       " 1.38788430696972762407737355174827911e+01     3.30433570513659224377887585439972330e+02\n",
       " ⋮                                          ⋱                                           \n",
       " 9.26259354691831073606227546716295763e+01     4.42624772017511573869901957311292132e+02\n",
       " 9.36393526434251920720349703683786699e+01  …  4.44021039271280060042977441101440102e+02\n",
       " 9.46526711471560047526726434082766016e+01     4.45416098719786897636006953081469030e+02\n",
       " 9.56658927765451668073261289941370260e+01     4.46809960039248230700084562630099442e+02\n",
       " 9.66790192759831064597272553582823483e+01     4.48202632779547669379379994391889205e+02\n",
       " 9.76920523401122980411828156083531180e+01     4.49594126366522512880390175687016014e+02\n",
       " 9.87049936157581314134989878039031962e+01  …  4.50984450104197137939811469284909175e+02\n",
       " 9.97178447037653721182095282742775485e+01     4.52373613176965036690381713030388837e+02\n",
       " 1.00730607160745760643181289154648199e+02     4.53761624651720938825545769110236340e+02\n",
       " 1.01743282500741919446566011855386521e+02     4.55148493479944405822870348153942421e+02\n",
       " 1.02755872196812386217999242695020286e+02     4.56534228499736239623350138654853223e+02\n",
       " 1.03768377682542268707241285361134515e+02  …  4.57918838437809004503461623492698514e+02"
      ]
     },
     "execution_count": 25,
     "metadata": {},
     "output_type": "execute_result"
    }
   ],
   "source": [
    "dummy = besseljprime_zero(0, 1, Float128) \n",
    "j1_f128_time = @elapsed j1_f128 = Float128[besseljprime_zero(ν, m, Float128) for ν=0:νmax, m=1:mmax]\n",
    "j1_f128"
   ]
  },
  {
   "cell_type": "code",
   "execution_count": 26,
   "metadata": {
    "collapsed": false
   },
   "outputs": [
    {
     "data": {
      "text/plain": [
       "1.79080551652154353262755586100654732e-34"
      ]
     },
     "execution_count": 26,
     "metadata": {},
     "output_type": "execute_result"
    }
   ],
   "source": [
    "maximum((j1_f128-j1_bf)./j1_f128)"
   ]
  },
  {
   "cell_type": "code",
   "execution_count": 27,
   "metadata": {
    "collapsed": false
   },
   "outputs": [
    {
     "data": {
      "text/plain": [
       "4.556125837435924"
      ]
     },
     "execution_count": 27,
     "metadata": {},
     "output_type": "execute_result"
    }
   ],
   "source": [
    "j1_bf_time/j1_f128_time"
   ]
  },
  {
   "cell_type": "code",
   "execution_count": 28,
   "metadata": {
    "collapsed": false
   },
   "outputs": [
    {
     "data": {
      "text/plain": [
       "101x100 Array{Float64,2}:\n",
       "   3.83171    7.01559      10.1735   …  305.519  308.66   311.802  314.943\n",
       "   1.84118    5.33144       8.53632     303.946  307.088  310.229  313.371\n",
       "   3.05424    6.70613       9.96947     305.512  308.654  311.795  314.937\n",
       "   4.20119    1.75719e-6   11.3459      307.075  310.217  313.358  316.5  \n",
       "   5.31755    9.2824        9.2824      308.634  311.776  314.918  318.06 \n",
       "   6.41562   10.5199       17.3128   …  310.191  313.333  316.475  319.617\n",
       "   7.50127   11.7349       15.2682      311.744  314.886  318.028  321.171\n",
       "   8.57784   12.9324       16.5294      313.294  316.437  319.579  322.722\n",
       "   9.64742   14.1155       17.774       314.842  317.984  321.127  324.27 \n",
       "  10.7114    15.2867       19.0046      316.386  319.529  322.672  325.815\n",
       "  11.7709    16.4479       20.223    …  317.928  321.071  324.214  327.357\n",
       "  12.8265    17.6003       21.4309      319.466  322.61   325.753  328.897\n",
       "  13.8788    18.7451       22.6293      321.002  324.146  327.29   330.434\n",
       "   ⋮                                 ⋱                                    \n",
       "  92.6259   100.947       107.055       432.999  436.209  439.417  442.625\n",
       "  93.6394   101.989       108.116    …  434.392  437.603  440.812  444.021\n",
       "  94.6527   103.03        109.175       435.784  438.995  442.206  445.416\n",
       "  95.6659   104.07        110.235       437.174  440.387  443.599  446.81 \n",
       "  96.679    105.111       111.293       438.563  441.778  444.991  448.203\n",
       "  97.6921   106.151       112.352       439.951  443.167  446.381  449.594\n",
       "  98.705    107.191       113.41     …  441.338  444.555  447.77   450.984\n",
       "  99.7178   108.231       114.468       442.724  445.942  449.158  452.374\n",
       " 100.731    109.27        115.525       444.109  447.328  450.545  453.762\n",
       " 101.743    110.309       116.582       445.492  448.712  451.931  455.148\n",
       " 102.756    111.348       117.639       446.875  450.096  453.315  456.534\n",
       " 103.768    112.387       118.695    …  448.256  451.478  454.699  457.919"
      ]
     },
     "execution_count": 28,
     "metadata": {},
     "output_type": "execute_result"
    }
   ],
   "source": [
    "dummy = besselj_zero(0, 1, Float64)\n",
    "j1_f64_time = @elapsed j1_f64 = Float64[besseljprime_zero(ν, m, Float64) for ν=0:νmax, m=1:mmax]\n",
    "j1_f64"
   ]
  },
  {
   "cell_type": "code",
   "execution_count": 29,
   "metadata": {
    "collapsed": false
   },
   "outputs": [
    {
     "data": {
      "text/plain": [
       "23.58996324869484"
      ]
     },
     "execution_count": 29,
     "metadata": {},
     "output_type": "execute_result"
    }
   ],
   "source": [
    "j1_f128_time/j1_f64_time"
   ]
  },
  {
   "cell_type": "code",
   "execution_count": 30,
   "metadata": {
    "collapsed": false
   },
   "outputs": [
    {
     "data": {
      "text/plain": [
       "5.71485019298285281207691467014499060e-14"
      ]
     },
     "execution_count": 30,
     "metadata": {},
     "output_type": "execute_result"
    }
   ],
   "source": [
    "maximum((j1_f128-j1_f64)./j1_f128)"
   ]
  },
  {
   "cell_type": "code",
   "execution_count": null,
   "metadata": {
    "collapsed": true
   },
   "outputs": [],
   "source": []
  }
 ],
 "metadata": {
  "kernelspec": {
   "display_name": "Julia 0.4",
   "language": "julia",
   "name": "julia-0.4"
  },
  "language_info": {
   "file_extension": ".jl",
   "mimetype": "application/julia",
   "name": "julia",
   "version": "0.4.2"
  }
 },
 "nbformat": 4,
 "nbformat_minor": 0
}
